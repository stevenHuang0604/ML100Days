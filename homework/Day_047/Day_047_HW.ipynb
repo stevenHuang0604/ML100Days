{
 "cells": [
  {
   "cell_type": "markdown",
   "metadata": {},
   "source": [
    "## [作業重點]\n",
    "了解如何使用 Sklearn 中的 hyper-parameter search 找出最佳的超參數"
   ]
  },
  {
   "cell_type": "markdown",
   "metadata": {},
   "source": [
    "### 作業\n",
    "請使用不同的資料集，並使用 hyper-parameter search 的方式，看能不能找出最佳的超參數組合"
   ]
  },
  {
   "cell_type": "markdown",
   "metadata": {},
   "source": [
    "<h1>diabetes<h1>"
   ]
  },
  {
   "cell_type": "code",
   "execution_count": 3,
   "metadata": {},
   "outputs": [
    {
     "name": "stdout",
     "output_type": "stream",
     "text": [
      "        age       sex       bmi        bp        s1\n",
      "0  0.038076  0.050680  0.061696  0.021872 -0.044223\n",
      "1 -0.001882 -0.044642 -0.051474 -0.026328 -0.008449\n",
      "2  0.085299  0.050680  0.044451 -0.005671 -0.045599\n",
      "3 -0.089063 -0.044642 -0.011595 -0.036656  0.012191\n",
      "4  0.005383 -0.044642 -0.036385  0.021872  0.003935\n"
     ]
    }
   ],
   "source": [
    "from sklearn.ensemble import GradientBoostingRegressor\n",
    "from sklearn import datasets,metrics\n",
    "from sklearn.model_selection import train_test_split,KFold,GridSearchCV\n",
    "import pandas as pd\n",
    "\n",
    "diabetes=datasets.load_diabetes()\n",
    "df=pd.DataFrame(diabetes.data,columns=diabetes.feature_names)\n",
    "first_5_col=df.columns[0:5]\n",
    "print(df[first_5_col].head())"
   ]
  },
  {
   "cell_type": "code",
   "execution_count": 5,
   "metadata": {},
   "outputs": [
    {
     "name": "stdout",
     "output_type": "stream",
     "text": [
      "train error: 905.4545327948351\n",
      "test error: 3194.3823958820526\n"
     ]
    }
   ],
   "source": [
    "x_train,x_test,y_train,y_test=train_test_split(diabetes.data,diabetes.target,test_size=0.25,random_state=42)\n",
    "clf=GradientBoostingRegressor(random_state=7)\n",
    "clf.fit(x_train,y_train)\n",
    "y_pred=clf.predict(x_test)\n",
    "\n",
    "print(f'train error: {metrics.mean_squared_error(y_train, clf.predict(x_train))}')\n",
    "print(f'test error: {metrics.mean_squared_error(y_test, y_pred)}')"
   ]
  },
  {
   "cell_type": "code",
   "execution_count": 6,
   "metadata": {},
   "outputs": [
    {
     "name": "stdout",
     "output_type": "stream",
     "text": [
      "Fitting 5 folds for each of 125 candidates, totalling 625 fits\n"
     ]
    },
    {
     "name": "stderr",
     "output_type": "stream",
     "text": [
      "[Parallel(n_jobs=-1)]: Using backend LokyBackend with 16 concurrent workers.\n",
      "[Parallel(n_jobs=-1)]: Done  18 tasks      | elapsed:    1.0s\n",
      "[Parallel(n_jobs=-1)]: Done 240 tasks      | elapsed:    2.8s\n",
      "[Parallel(n_jobs=-1)]: Done 594 out of 625 | elapsed:    5.7s remaining:    0.2s\n",
      "[Parallel(n_jobs=-1)]: Done 625 out of 625 | elapsed:    6.1s finished\n"
     ]
    }
   ],
   "source": [
    "learning_rate = [0.0001, 0.001, 0.01, 0.1, 0.2]\n",
    "n_estimators=[50,100,200,300,400]\n",
    "max_depth=[1,2,3,4,5]\n",
    "param_grid=dict(n_estimators=n_estimators,max_depth=max_depth,learning_rate=learning_rate)\n",
    "\n",
    "grid_search=GridSearchCV(clf,param_grid,scoring=\"neg_mean_squared_error\",n_jobs=-1,verbose=1)\n",
    "grid_result=grid_search.fit(x_train,y_train)"
   ]
  },
  {
   "cell_type": "code",
   "execution_count": 7,
   "metadata": {},
   "outputs": [
    {
     "name": "stdout",
     "output_type": "stream",
     "text": [
      "Best Accuracy: -3240.757496 using {'learning_rate': 0.2, 'max_depth': 1, 'n_estimators': 50}\n"
     ]
    }
   ],
   "source": [
    "print(\"Best Accuracy: %f using %s\" % (grid_result.best_score_, grid_result.best_params_))"
   ]
  },
  {
   "cell_type": "code",
   "execution_count": 8,
   "metadata": {},
   "outputs": [
    {
     "data": {
      "text/plain": [
       "{'learning_rate': 0.2, 'max_depth': 1, 'n_estimators': 50}"
      ]
     },
     "execution_count": 8,
     "metadata": {},
     "output_type": "execute_result"
    }
   ],
   "source": [
    "grid_result.best_params_"
   ]
  },
  {
   "cell_type": "code",
   "execution_count": 10,
   "metadata": {},
   "outputs": [
    {
     "name": "stdout",
     "output_type": "stream",
     "text": [
      "train error: 2481.4767934561482\n",
      "test error: 2815.7248636806307\n"
     ]
    }
   ],
   "source": [
    "clf_bestparam=GradientBoostingRegressor(learning_rate=grid_result.best_params_['learning_rate'],max_depth=grid_result.best_params_['max_depth'],n_estimators=grid_result.best_params_['n_estimators'])\n",
    "clf_bestparam.fit(x_train,y_train)\n",
    "y_pred=clf_bestparam.predict(x_test)\n",
    "\n",
    "print(f'train error: {metrics.mean_squared_error(y_train, clf_bestparam.predict(x_train))}')\n",
    "print(f'test error: {metrics.mean_squared_error(y_test, y_pred)}')"
   ]
  },
  {
   "cell_type": "code",
   "execution_count": null,
   "metadata": {},
   "outputs": [],
   "source": []
  }
 ],
 "metadata": {
  "kernelspec": {
   "display_name": "Python 3",
   "language": "python",
   "name": "python3"
  },
  "language_info": {
   "codemirror_mode": {
    "name": "ipython",
    "version": 3
   },
   "file_extension": ".py",
   "mimetype": "text/x-python",
   "name": "python",
   "nbconvert_exporter": "python",
   "pygments_lexer": "ipython3",
   "version": "3.7.6"
  }
 },
 "nbformat": 4,
 "nbformat_minor": 2
}
